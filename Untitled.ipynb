{
 "cells": [
  {
   "cell_type": "markdown",
   "id": "51db91aa-e9a6-47fc-ad3d-b6d434b9a9b3",
   "metadata": {},
   "source": [
    " # My Jupyter Notebook on IBM Watson Studio "
   ]
  },
  {
   "cell_type": "markdown",
   "id": "36538bcb-0932-4ac3-9c7e-9e70489f340e",
   "metadata": {},
   "source": [
    "**Vishesh Choudhary** <br>\n",
    "Director Redwood School"
   ]
  },
  {
   "cell_type": "markdown",
   "id": "85779993-85eb-464f-8b6b-b8fa1d1b280f",
   "metadata": {},
   "source": [
    "*I am intrested in Data Science because it is the future.*"
   ]
  },
  {
   "cell_type": "markdown",
   "id": "43433049-9498-474d-9f56-eeb58dfcbc4e",
   "metadata": {},
   "source": [
    "### It is an addition "
   ]
  },
  {
   "cell_type": "code",
   "execution_count": 2,
   "id": "1efd522c-af79-41f4-9e8f-e75e1364cf71",
   "metadata": {},
   "outputs": [
    {
     "data": {
      "text/plain": [
       "15"
      ]
     },
     "execution_count": 2,
     "metadata": {},
     "output_type": "execute_result"
    }
   ],
   "source": [
    "10+5"
   ]
  },
  {
   "cell_type": "markdown",
   "id": "8b1aa87d-1b60-49f5-8673-15f10974c91c",
   "metadata": {},
   "source": [
    "***\n",
    "* Coffee\n",
    "***\n",
    "* `Bread`\n",
    "***\n",
    "* ~~Eggs~~\n",
    "***\n",
    "* Butter <a href=\"https://www.amazon.in/Amul-Butter-Pasteurised-500g-Pack/dp/B018E0G4MU/ref=sr_1_5_f3_0o_fs?crid=3ANBVZ4MX5PGR&keywords=butter&qid=1656169542&sprefix=butter%2Caps%2C386&sr=8-5\" target=\"_blank\"> Amul Butter</a>\n",
    "***"
   ]
  },
  {
   "cell_type": "code",
   "execution_count": null,
   "id": "7cdbca83-5a22-4394-a4a4-7d7762781af0",
   "metadata": {},
   "outputs": [],
   "source": []
  }
 ],
 "metadata": {
  "kernelspec": {
   "display_name": "Python",
   "language": "python",
   "name": "conda-env-python-py"
  },
  "language_info": {
   "codemirror_mode": {
    "name": "ipython",
    "version": 3
   },
   "file_extension": ".py",
   "mimetype": "text/x-python",
   "name": "python",
   "nbconvert_exporter": "python",
   "pygments_lexer": "ipython3",
   "version": "3.7.12"
  }
 },
 "nbformat": 4,
 "nbformat_minor": 5
}
